{
 "cells": [
  {
   "cell_type": "code",
   "execution_count": 2,
   "id": "ebe11010-5bf7-400b-ad30-a9097a7e54d3",
   "metadata": {
    "tags": []
   },
   "outputs": [],
   "source": [
    "import numpy as np\n",
    "import pandas as pd\n",
    "from sklearn.model_selection import train_test_split\n",
    "from sklearn.neighbors import KNeighborsClassifier\n",
    "from sklearn.svm import SVC\n",
    "from sklearn.naive_bayes import GaussianNB\n",
    "import os\n"
   ]
  },
  {
   "cell_type": "code",
   "execution_count": 7,
   "id": "8007909f-bc50-4d2e-9cfc-35016db6a416",
   "metadata": {
    "tags": []
   },
   "outputs": [],
   "source": [
    "# Klasör Yolları\n",
    "klasor_yolu_1 = \"C:/Users/AliBakiTURKOZ/OneDrive/Masaüstü/Okrali_Uzum_Factory_Beyaz\"\n",
    "klasor_yolu_2 = \"C:/Users/AliBakiTURKOZ/OneDrive/Masaüstü/Saglikli_Uzum_Factory_Beyaz\"\n",
    "\n",
    "# Dosyaları Listeleme\n",
    "try:\n",
    "    dosyalar_1 = [f for f in os.listdir(klasor_yolu_1) if f.endswith(\".csv\")]\n",
    "    dosyalar_2 = [f for f in os.listdir(klasor_yolu_2) if f.endswith(\".csv\")]\n",
    "except PermissionError:\n",
    "    print(\"Hata: Klasörlere erişmek için yeterli izin yok.\")\n",
    "    exit()\n",
    "\n",
    "# Herhangi Bir Dosya Bulunup Bulunmadığını Kontrol Etme\n",
    "if not dosyalar_1 or not dosyalar_2:\n",
    "    print(\"Hata: Klasörlerde .csv dosyası bulunamadı.\")\n",
    "    exit()\n",
    "\n",
    "# Dosya Sayılarını Kontrol Etme\n",
    "if len(dosyalar_1) != 20 or len(dosyalar_2) != 20:\n",
    "    print(\"Hata: Her iki klasörde de yirmi adet .csv dosyası olması gerekiyor.\")\n",
    "    exit()\n"
   ]
  },
  {
   "cell_type": "code",
   "execution_count": 8,
   "id": "46fe5efa-29f1-45e2-b7ae-1bfc676556b3",
   "metadata": {
    "tags": []
   },
   "outputs": [],
   "source": [
    "# Hata İşleme ile Veri Okuma\n",
    "veri_tum = pd.DataFrame()\n",
    "for dosya in dosyalar_1:\n",
    "    try:\n",
    "        veri = pd.read_csv(os.path.join(klasor_yolu_1, dosya))\n",
    "        veri[\"Sinif\"] = \"uzum_verileri\"\n",
    "        veri_tum = pd.concat([veri_tum, veri], ignore_index=True)\n",
    "    except FileNotFoundError:\n",
    "        print(f\"Hata: Dosya '{dosya}' bulunamadı.\")\n",
    "        continue\n",
    "\n",
    "for dosya in dosyalar_2:\n",
    "    try:\n",
    "        veri = pd.read_csv(os.path.join(klasor_yolu_2, dosya))\n",
    "        veri[\"Sinif\"] = \"uzum_verileri2\"\n",
    "        veri_tum = pd.concat([veri_tum, veri], ignore_index=True)\n",
    "    except FileNotFoundError:\n",
    "        print(f\"Hata: Dosya '{dosya}' bulunamadı.\")\n",
    "        continue\n",
    "\n",
    "# En Az İki Sınıf Olmadığını Kontrol Etme\n",
    "if len(np.unique(veri_tum[\"Sinif\"])) < 2:\n",
    "    print(\"Hata: Veriler sadece bir sınıf içeriyor. Sınıflandırma mümkün değil.\")\n",
    "    exit()\n"
   ]
  },
  {
   "cell_type": "code",
   "execution_count": 9,
   "id": "cbd8bfc1-2e2d-44fd-8759-605736d2570a",
   "metadata": {
    "tags": []
   },
   "outputs": [],
   "source": [
    "# Verileri Bölme\n",
    "X_train, X_test, y_train, y_test = train_test_split(veri_tum.drop(\"Sinif\", axis=1), veri_tum[\"Sinif\"], test_size=0.25, random_state=42)\n"
   ]
  },
  {
   "cell_type": "code",
   "execution_count": 10,
   "id": "a239b499-6e41-4641-bc82-47b79b6d1235",
   "metadata": {
    "tags": []
   },
   "outputs": [
    {
     "name": "stdout",
     "output_type": "stream",
     "text": [
      "KNN Doğruluk Oranı: 0.62\n",
      "SVM Doğruluk Oranı: 0.60\n",
      "Naive Bayes Doğruluk Oranı: 0.59\n"
     ]
    }
   ],
   "source": [
    "# Modellerin Oluşturulması\n",
    "modeller = {\n",
    "    \"KNN\": KNeighborsClassifier(n_neighbors=5),\n",
    "    \"SVM\": SVC(),\n",
    "    \"Naive Bayes\": GaussianNB(),\n",
    "}\n",
    "\n",
    "# Doğruluk Oranlarının Karşılaştırılması\n",
    "for model_adi, model in modeller.items():\n",
    "    model.fit(X_train, y_train)\n",
    "    dogruluk = model.score(X_test, y_test)\n",
    "    print(f\"{model_adi} Doğruluk Oranı: {dogruluk:.2f}\")\n"
   ]
  },
  {
   "cell_type": "code",
   "execution_count": null,
   "id": "dfb2804b-2ba6-49a5-8ac6-a105634edeb1",
   "metadata": {},
   "outputs": [],
   "source": []
  }
 ],
 "metadata": {
  "kernelspec": {
   "display_name": "Python 3 (ipykernel)",
   "language": "python",
   "name": "python3"
  },
  "language_info": {
   "codemirror_mode": {
    "name": "ipython",
    "version": 3
   },
   "file_extension": ".py",
   "mimetype": "text/x-python",
   "name": "python",
   "nbconvert_exporter": "python",
   "pygments_lexer": "ipython3",
   "version": "3.11.5"
  }
 },
 "nbformat": 4,
 "nbformat_minor": 5
}
