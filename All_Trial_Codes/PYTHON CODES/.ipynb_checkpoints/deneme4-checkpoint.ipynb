{
 "cells": [
  {
   "cell_type": "code",
   "execution_count": 24,
   "id": "1c26334a-b3a8-4acc-977e-4ab5901d20d3",
   "metadata": {
    "tags": []
   },
   "outputs": [
    {
     "name": "stdout",
     "output_type": "stream",
     "text": [
      "Decision Tree Doğruluk Oranı: 0.6475\n",
      "Random Forest Doğruluk Oranı: 0.6212\n",
      "K-Nearest Neighbors Doğruluk Oranı: 0.6546\n",
      "Support Vector Machine Doğruluk Oranı: 0.5559\n"
     ]
    }
   ],
   "source": [
    "import os\n",
    "import pandas as pd\n",
    "from sklearn.model_selection import train_test_split\n",
    "from sklearn.tree import DecisionTreeClassifier\n",
    "from sklearn.ensemble import RandomForestClassifier\n",
    "from sklearn.neighbors import KNeighborsClassifier\n",
    "from sklearn.svm import SVC\n",
    "from sklearn.metrics import accuracy_score\n",
    "from sklearn.preprocessing import StandardScaler\n",
    "\n",
    "# Veri klasörlerini belirt\n",
    "okra_klasoru = r\"C:\\Users\\AliBakiTURKOZ\\OneDrive\\Masaüstü\\Okralı_Dut\"\n",
    "normal_klasoru = r\"C:\\Users\\AliBakiTURKOZ\\OneDrive\\Masaüstü\\Saglikli_Dut\"\n",
    "\n",
    "# Verileri depolamak için boş bir DataFrame oluştur\n",
    "tum_veriler = pd.DataFrame()\n",
    "\n",
    "# .csv dosyalarını oku ve NaN değerleri ortalama ile doldur\n",
    "for klasor, label in [(okra_klasoru, 'Okra'), (normal_klasoru, 'Normal')]:\n",
    "    dosyalar = os.listdir(klasor)\n",
    "    \n",
    "    for dosya in dosyalar:\n",
    "        dosya_yolu = os.path.join(klasor, dosya)\n",
    "        veri = pd.read_csv(dosya_yolu)\n",
    "        veri = veri.fillna(veri.mean())  # NaN değerleri ortalama ile doldur\n",
    "        veri['Label'] = label  # Etiket sütunu ekle\n",
    "        tum_veriler = pd.concat([tum_veriler, veri], ignore_index=True)\n",
    "\n",
    "# Verileri sınıflandırma için hazırla\n",
    "X = tum_veriler[['Wavelength (nm)','Absorbance (AU)']]\n",
    "y = tum_veriler['Label']\n",
    "\n",
    "# Veri normalizasyonu\n",
    "scaler = StandardScaler()\n",
    "X_scaled = scaler.fit_transform(X)\n",
    "\n",
    "# Verileri eğitim ve test setlerine ayır\n",
    "X_train, X_test, y_train, y_test = train_test_split(X_scaled, y, test_size=0.2, random_state=42)\n",
    "\n",
    "# Modelleri oluştur, eğit ve doğruluk oranlarını ekrana bastır\n",
    "models = {\n",
    "    'Decision Tree': DecisionTreeClassifier(),\n",
    "    'Random Forest': RandomForestClassifier(),\n",
    "    'K-Nearest Neighbors': KNeighborsClassifier(),\n",
    "    'Support Vector Machine': SVC(kernel='linear', C=1)\n",
    "}\n",
    "\n",
    "for model_name, model in models.items():\n",
    "    model.fit(X_train, y_train)\n",
    "    y_pred = model.predict(X_test)\n",
    "    dogruluk_orani = accuracy_score(y_test, y_pred)\n",
    "    print(f\"{model_name} Doğruluk Oranı: {dogruluk_orani:.4f}\")\n"
   ]
  },
  {
   "cell_type": "code",
   "execution_count": null,
   "id": "ad19f551-2439-4cfe-bdb7-a5371cbdf899",
   "metadata": {},
   "outputs": [],
   "source": []
  }
 ],
 "metadata": {
  "kernelspec": {
   "display_name": "Python 3 (ipykernel)",
   "language": "python",
   "name": "python3"
  },
  "language_info": {
   "codemirror_mode": {
    "name": "ipython",
    "version": 3
   },
   "file_extension": ".py",
   "mimetype": "text/x-python",
   "name": "python",
   "nbconvert_exporter": "python",
   "pygments_lexer": "ipython3",
   "version": "3.11.5"
  }
 },
 "nbformat": 4,
 "nbformat_minor": 5
}
