{
 "cells": [
  {
   "cell_type": "markdown",
   "id": "d04812e6-0bfe-4d5e-87c4-1b8ef881df9c",
   "metadata": {},
   "source": [
    "# RANDOM_FOREST_PNG"
   ]
  },
  {
   "cell_type": "code",
   "execution_count": null,
   "id": "7a606cdd-d009-4abd-b78d-8cb17b0dfe47",
   "metadata": {},
   "outputs": [],
   "source": [
    "import os\n",
    "import numpy as np\n",
    "import cv2\n",
    "from sklearn.model_selection import train_test_split\n",
    "from sklearn.ensemble import RandomForestClassifier\n",
    "from sklearn.metrics import accuracy_score\n",
    "from sklearn.utils import shuffle\n",
    "\n",
    "\n",
    "# Dosya yolları\n",
    "zar_klasor = 'C:/Users/oztur/Desktop/ZARAR'\n",
    "nor_klasor = 'C:/Users/oztur/Desktop/NORMAL'\n",
    "\n",
    "# Veri ve etiketlerin depolanacağı boş listeleri oluşturma\n",
    "X = []\n",
    "y = []\n",
    "\n",
    "# Zararlı sınıf için verileri yükleme\n",
    "for dosya_adi in os.listdir(zar_klasor)[:100]:\n",
    "\tdosya_yolu = os.path.join(zar_klasor, dosya_adi)\n",
    "\timg = cv2.imread(dosya_yolu)  # Renkli görüntü olarak okuma\n",
    "\tif img is not None:\n",
    "    \timg = cv2.resize(img, (100, 100))  # Boyutu yeniden ayarlama\n",
    "    \tX.append(img.flatten())  # Görüntüyü düzleştirme\n",
    "    \ty.append(0)  # Zararlı sınıf\n",
    "\n",
    "# Normal sınıf için verileri yükleme\n",
    "for dosya_adi in os.listdir(nor_klasor)[:100]:\n",
    "\tdosya_yolu = os.path.join(nor_klasor, dosya_adi)\n",
    "\timg = cv2.imread(dosya_yolu)  # Renkli görüntü olarak okuma\n",
    "\tif img is not None:\n",
    "    \timg = cv2.resize(img, (100, 100))  # Boyutu yeniden ayarlama\n",
    "    \tX.append(img.flatten())  # Görüntüyü düzleştirme\n",
    "    \ty.append(1)  # Normal sınıf\n",
    "\n",
    "# Veriyi Numpy dizilerine dönüştürme\n",
    "X = np.array(X)\n",
    "y = np.array(y)\n",
    "\n",
    "# Verileri karıştırma\n",
    "X, y = shuffle(X, y)\n",
    "\n",
    "# Eğitim ve test verisi olarak ayırma\n",
    "X_train, X_test, y_train, y_test = train_test_split(X, y, test_size=0.2, random_state=42)\n",
    "\n",
    "# Random Forest modeli oluşturma ve eğitme\n",
    "model = RandomForestClassifier(n_estimators=100, random_state=42)\n",
    "model.fit(X_train, y_train)\n",
    "\n",
    "# Modelden tahminler yapma\n",
    "y_pred = model.predict(X_test)\n",
    "\n",
    "# Doğruluk hesaplama\n",
    "accuracy = accuracy_score(y_test, y_pred)\n",
    "print(f'Random Forest Modeli Test Doğruluk Oranı: {accuracy * 100:.2f}%')\n"
   ]
  }
 ],
 "metadata": {
  "kernelspec": {
   "display_name": "Python 3 (ipykernel)",
   "language": "python",
   "name": "python3"
  },
  "language_info": {
   "codemirror_mode": {
    "name": "ipython",
    "version": 3
   },
   "file_extension": ".py",
   "mimetype": "text/x-python",
   "name": "python",
   "nbconvert_exporter": "python",
   "pygments_lexer": "ipython3",
   "version": "3.11.5"
  }
 },
 "nbformat": 4,
 "nbformat_minor": 5
}
