{
 "cells": [
  {
   "cell_type": "markdown",
   "id": "f95ed667-daea-4af5-a4a6-ad5b7540470f",
   "metadata": {},
   "source": [
    "# SVM_PNG"
   ]
  },
  {
   "cell_type": "code",
   "execution_count": null,
   "id": "6cf1e015-04cf-4852-8656-067d2d7093c9",
   "metadata": {},
   "outputs": [],
   "source": [
    "import os\n",
    "import numpy as np\n",
    "import cv2\n",
    "from sklearn.model_selection import train_test_split\n",
    "from sklearn.utils import shuffle\n",
    "from sklearn.svm import SVC\n",
    "from sklearn.metrics import accuracy_score\n",
    "\n",
    "# Dosya yolları\n",
    "zar_klasor = 'C:/Users/oztur/Desktop/ZARAR'\n",
    "nor_klasor = 'C:/Users/oztur/Desktop/NORMAL'\n",
    "\n",
    "# Veri ve etiketlerin depolanacağı boş listeleri oluşturma\n",
    "X = []\n",
    "y = []\n",
    "\n",
    "# Zararlı sınıf için verileri yükleme\n",
    "for dosya_adi in os.listdir(zar_klasor)[:100]:\n",
    "\tdosya_yolu = os.path.join(zar_klasor, dosya_adi)\n",
    "\timg = cv2.imread(dosya_yolu, cv2.IMREAD_GRAYSCALE)  # Gri tonlama olarak okuma\n",
    "\tif img is not None:\n",
    "    \timg = img.flatten()  # Görüntüyü düzleştirme\n",
    "    \tX.append(img)\n",
    "    \ty.append(0)  # Zararlı sınıf\n",
    "\n",
    "# Normal sınıf için verileri yükleme\n",
    "for dosya_adi in os.listdir(nor_klasor)[:100]:\n",
    "\tdosya_yolu = os.path.join(nor_klasor, dosya_adi)\n",
    "\timg = cv2.imread(dosya_yolu, cv2.IMREAD_GRAYSCALE)  # Gri tonlama olarak okuma\n",
    "\tif img is not None:\n",
    "    \timg = img.flatten()  # Görüntüyü düzleştirme\n",
    "    \tX.append(img)\n",
    "    \ty.append(1)  # Normal sınıf\n",
    "\n",
    "# Veriyi Numpy dizilerine dönüştürme\n",
    "X = np.array(X)\n",
    "y = np.array(y)\n",
    "\n",
    "# Verileri karıştırma\n",
    "X, y = shuffle(X, y)\n",
    "\n",
    "# Eğitim ve test verisi olarak ayırma\n",
    "X_train, X_test, y_train, y_test = train_test_split(X, y, test_size=0.2, random_state=42)\n",
    "\n",
    "# Destek Vektör Makineleri (SVM) sınıflandırıcı modelini oluşturma ve eğitme\n",
    "model = SVC(kernel='linear', random_state=42)\n",
    "model.fit(X_train, y_train)\n",
    "\n",
    "# Modeli test verisiyle değerlendirme\n",
    "y_pred = model.predict(X_test)\n",
    "accuracy = accuracy_score(y_test, y_pred)\n",
    "print(f'Destek Vektör Makineleri Modeli Test Doğruluk Oranı: {accuracy * 100:.2f}%')\n"
   ]
  }
 ],
 "metadata": {
  "kernelspec": {
   "display_name": "Python 3 (ipykernel)",
   "language": "python",
   "name": "python3"
  },
  "language_info": {
   "codemirror_mode": {
    "name": "ipython",
    "version": 3
   },
   "file_extension": ".py",
   "mimetype": "text/x-python",
   "name": "python",
   "nbconvert_exporter": "python",
   "pygments_lexer": "ipython3",
   "version": "3.11.5"
  }
 },
 "nbformat": 4,
 "nbformat_minor": 5
}
