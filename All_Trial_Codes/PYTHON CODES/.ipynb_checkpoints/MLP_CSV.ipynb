{
 "cells": [
  {
   "cell_type": "markdown",
   "id": "76aef706-1e45-4dcc-b615-583f94e86baf",
   "metadata": {},
   "source": [
    "# MLP_CSV"
   ]
  },
  {
   "cell_type": "code",
   "execution_count": null,
   "id": "0873814c-2f18-4ed3-970e-cf12e5d0ff69",
   "metadata": {},
   "outputs": [],
   "source": [
    "import os\n",
    "import pandas as pd\n",
    "import numpy as np\n",
    "from sklearn.model_selection import train_test_split\n",
    "from sklearn.neural_network import MLPClassifier\n",
    "from sklearn.metrics import accuracy_score\n",
    "from sklearn.preprocessing import StandardScaler\n",
    "\n",
    "# N2 ve Z2 olarak klasörleri güncelle\n",
    "normal_klasoru = r\"C:\\Users\\oztur\\Desktop\\N\"\n",
    "okra_klasoru = r\"C:\\Users\\oztur\\Desktop\\Z\"\n",
    "\n",
    "# Okra ve normal verilerini saklamak için boş liste oluştur\n",
    "okra_verileri = []\n",
    "normal_verileri = []\n",
    "\n",
    "# Okra dosyalarını oku ve verileri okra_verileri listesine ekle\n",
    "for dosya in os.listdir(okra_klasoru):\n",
    "\tif dosya.endswith('.csv'):\n",
    "    \tdosya_yolu = os.path.join(okra_klasoru, dosya)\n",
    "    \tveri = pd.read_csv(dosya_yolu)\n",
    "    \tokra_verileri.append(veri[['Wavelength (nm)', 'Absorbance (AU)']].values.flatten())  # Düzleştirme işlemi\n",
    "\n",
    "# Normal dosyaları oku ve verileri normal_verileri listesine ekle\n",
    "for dosya in os.listdir(normal_klasoru):\n",
    "\tif dosya.endswith('.csv'):\n",
    "    \tdosya_yolu = os.path.join(normal_klasoru, dosya)\n",
    "    \tveri = pd.read_csv(dosya_yolu)\n",
    "    \tnormal_verileri.append(veri[['Wavelength (nm)', 'Absorbance (AU)']].values.flatten())  # Düzleştirme işlemi\n",
    "\n",
    "# Okra ve normal verilerini birleştir\n",
    "okra_etiketleri = [1] * len(okra_verileri)  # Okra için etiketler 1\n",
    "normal_etiketleri = [0] * len(normal_verileri)  # Normal için etiketler 0\n",
    "\n",
    "# Verileri ve etiketleri birleştir\n",
    "X = np.concatenate((okra_verileri, normal_verileri))\n",
    "y = np.concatenate((okra_etiketleri, normal_etiketleri))\n",
    "\n",
    "# Verileri standartlaştırma\n",
    "scaler = StandardScaler()\n",
    "X = scaler.fit_transform(X)\n",
    "\n",
    "# Verileri eğitim ve test setlerine ayır\n",
    "X_egitim, X_test, y_egitim, y_test = train_test_split(X, y, test_size=0.2, random_state=42)\n",
    "\n",
    "# Model oluşturma\n",
    "model = MLPClassifier(\n",
    "\thidden_layer_sizes=(100, 50),  # Gizli katmanlar\n",
    "\tactivation='relu',  # Aktivasyon fonksiyonu\n",
    "\tsolver='adam',  # Optimizasyon algoritması\n",
    "\tmax_iter=1000,  # İterasyon sayısı\n",
    "\trandom_state=42\n",
    ")\n",
    "\n",
    "# Modeli eğitme\n",
    "model.fit(X_egitim, y_egitim)\n",
    "\n",
    "# Test seti üzerinde modeli değerlendirme\n",
    "tahminler = model.predict(X_test)\n",
    "dogruluk_skoru = accuracy_score(y_test, tahminler)\n",
    "dogruluk_yuzde = dogruluk_skoru * 100\n",
    "print(\"Model Doğruluğu: {:.2f}%\".format(dogruluk_yuzde))\n"
   ]
  }
 ],
 "metadata": {
  "kernelspec": {
   "display_name": "Python 3 (ipykernel)",
   "language": "python",
   "name": "python3"
  },
  "language_info": {
   "codemirror_mode": {
    "name": "ipython",
    "version": 3
   },
   "file_extension": ".py",
   "mimetype": "text/x-python",
   "name": "python",
   "nbconvert_exporter": "python",
   "pygments_lexer": "ipython3",
   "version": "3.11.5"
  }
 },
 "nbformat": 4,
 "nbformat_minor": 5
}
