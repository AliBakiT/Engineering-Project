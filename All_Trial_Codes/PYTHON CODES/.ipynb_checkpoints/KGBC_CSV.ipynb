{
 "cells": [
  {
   "cell_type": "markdown",
   "id": "2ab4caa4-10fc-4413-b574-625776dc53a4",
   "metadata": {},
   "source": [
    "# XGBC_CSV"
   ]
  },
  {
   "cell_type": "code",
   "execution_count": null,
   "id": "212f9309-00c8-453a-8502-6952f8325369",
   "metadata": {},
   "outputs": [],
   "source": [
    "import os\n",
    "import pandas as pd\n",
    "import numpy as np\n",
    "from sklearn.model_selection import train_test_split\n",
    "from xgboost import XGBClassifier\n",
    "from sklearn.metrics import accuracy_score\n",
    "\n",
    "# N2 ve Z2 olarak klasörleri güncelle\n",
    "normal_klasoru = r\"C:\\Users\\oztur\\Desktop\\N2\"\n",
    "okra_klasoru = r\"C:\\Users\\oztur\\Desktop\\Z2\"\n",
    "\n",
    "# Okra ve normal verilerini saklamak için boş liste oluştur\n",
    "okra_verileri = []\n",
    "normal_verileri = []\n",
    "\n",
    "# Okra dosyalarını oku ve verileri okra_verileri listesine ekle\n",
    "for dosya in os.listdir(okra_klasoru):\n",
    "\tif dosya.endswith('.csv'):\n",
    "    \tdosya_yolu = os.path.join(okra_klasoru, dosya)\n",
    "    \tveri = pd.read_csv(dosya_yolu)\n",
    "    \tokra_verileri.append(veri[['Wavelength (nm)', 'Absorbance (AU)']].values.flatten())  # Düzleştirme işlemi\n",
    "\n",
    "# Normal dosyaları oku ve verileri normal_verileri listesine ekle\n",
    "for dosya in os.listdir(normal_klasoru):\n",
    "\tif dosya.endswith('.csv'):\n",
    "    \tdosya_yolu = os.path.join(normal_klasoru, dosya)\n",
    "    \tveri = pd.read_csv(dosya_yolu)\n",
    "    \tnormal_verileri.append(veri[['Wavelength (nm)', 'Absorbance (AU)']].values.flatten())  # Düzleştirme işlemi\n",
    "\n",
    "# Okra ve normal verilerini birleştir\n",
    "okra_etiketleri = [1] * len(okra_verileri)  # Okra için etiketler 1\n",
    "normal_etiketleri = [0] * len(normal_verileri)  # Normal için etiketler 0\n",
    "\n",
    "# Verileri ve etiketleri birleştir\n",
    "X = np.concatenate((okra_verileri, normal_verileri))\n",
    "y = np.concatenate((okra_etiketleri, normal_etiketleri))\n",
    "\n",
    "# Verileri eğitim ve test setlerine ayır\n",
    "X_egitim, X_test, y_egitim, y_test = train_test_split(X, y, test_size=0.2, random_state=42)\n",
    "\n",
    "# Model oluşturma\n",
    "model = XGBClassifier(\n",
    "\tn_estimators=1000,\n",
    "\tlearning_rate=0.01,\n",
    "\tmax_depth=5,\n",
    "\tsubsample=0.8,\n",
    "\tcolsample_bytree=0.8,\n",
    "\trandom_state=42\n",
    ")\n",
    "\n",
    "# Modeli eğitme\n",
    "model.fit(X_egitim, y_egitim)\n",
    "\n",
    "# Test seti üzerinde modeli değerlendirme\n",
    "tahminler = model.predict(X_test)\n",
    "dogruluk = accuracy_score(y_test, tahminler)\n",
    "print(\"Model Doğruluğu:\", dogruluk)\n"
   ]
  }
 ],
 "metadata": {
  "kernelspec": {
   "display_name": "Python 3 (ipykernel)",
   "language": "python",
   "name": "python3"
  },
  "language_info": {
   "codemirror_mode": {
    "name": "ipython",
    "version": 3
   },
   "file_extension": ".py",
   "mimetype": "text/x-python",
   "name": "python",
   "nbconvert_exporter": "python",
   "pygments_lexer": "ipython3",
   "version": "3.11.5"
  }
 },
 "nbformat": 4,
 "nbformat_minor": 5
}
